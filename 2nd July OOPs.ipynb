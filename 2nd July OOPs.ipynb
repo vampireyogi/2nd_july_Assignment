{
 "cells": [
  {
   "cell_type": "markdown",
   "id": "1ce6d076",
   "metadata": {},
   "source": [
    "1. Explain what inheritance is in object-oriented programming and why it is used.\n",
    "- Inheritance is a mechanism in object-oriented programming that allows a class to inherit properties and behaviors from another class."
   ]
  },
  {
   "cell_type": "markdown",
   "id": "c3964fbf",
   "metadata": {},
   "source": [
    "2. Discuss the concept of single inheritance and multiple inheritance, highlighting their differences and advantages.\n",
    "- When a child class inherits from only one parent class, it is called single inheritance and  When a child class inherits from multiple parent classes, it is called multiple inheritances. \n",
    "- Single inheritance offers simplicity while multiple inheritance offers improved code reusability and flexibility."
   ]
  },
  {
   "cell_type": "markdown",
   "id": "81ec0c59",
   "metadata": {},
   "source": [
    "3. Explain the terms \"base class\" and \"derived class\" in the context of inheritance.\n",
    "- The class being inherited from is called the base class or parent class, while the class that inherits from another class is called the derived class or child class."
   ]
  },
  {
   "cell_type": "markdown",
   "id": "ee334b9d",
   "metadata": {},
   "source": [
    "4. What is the significance of the \"protected\" access modifier in inheritance? How does\n",
    "it differ from \"private\" and \"public\" modifiers?\n",
    "- Protected access modifier is used when we need to access the properties and methods of the class from inside the class and from the class which inherits from that class.\n",
    "- Protected members are more accessible than private members, but less accessible than public members."
   ]
  },
  {
   "cell_type": "markdown",
   "id": "699de7b9",
   "metadata": {},
   "source": [
    "5. What is the purpose of the \"super\" keyword in inheritance? Provide an example.\n",
    "- Super keyword is use to inherit attributes and methods from parent class to child class or one class to another class."
   ]
  },
  {
   "cell_type": "code",
   "execution_count": 4,
   "id": "9253db5a",
   "metadata": {},
   "outputs": [
    {
     "name": "stdout",
     "output_type": "stream",
     "text": [
      "Gender: Man\n",
      "Age: 25\n"
     ]
    }
   ],
   "source": [
    "# Example of Super keyword\n",
    "class Human:\n",
    "    def __init__(self,gender):\n",
    "        self.gender=gender\n",
    "    def info(self):\n",
    "        print(f\"Gender: {self.gender}\")\n",
    "        \n",
    "class Man(Human):\n",
    "    def __init__(self,gender,age):\n",
    "        super().__init__(gender)   # Super keyword \n",
    "        self.age=age\n",
    "    def info(self):\n",
    "        super().info()             # Super keyword\n",
    "        print(f\"Age: {self.age}\")\n",
    "\n",
    "man=Man(\"Man\",25) \n",
    "man.info()"
   ]
  },
  {
   "cell_type": "markdown",
   "id": "c44a3a8e",
   "metadata": {},
   "source": [
    "6. Create a base class called \"Vehicle\" with attributes like \"make\", \"model\", and \"year\".\n",
    "Then, create a derived class called \"Car\" that inherits from \"Vehicle\" and adds an\n",
    "attribute called \"fuel_type\". Implement appropriate methods in both classes."
   ]
  },
  {
   "cell_type": "code",
   "execution_count": 8,
   "id": "3bec1aec",
   "metadata": {},
   "outputs": [
    {
     "name": "stdout",
     "output_type": "stream",
     "text": [
      "Mahindra 2023 Thar use Petrol as fuel\n"
     ]
    }
   ],
   "source": [
    "class Vehicle:\n",
    "    \n",
    "    def __init__(self,make,model,year):\n",
    "        self.make=make\n",
    "        self.model=model\n",
    "        self.year=year\n",
    "\n",
    "class Car(Vehicle):\n",
    "    \n",
    "    def __init__(self,make,model,year,fuel_type):\n",
    "        super().__init__(make,model,year)\n",
    "        self.fuel_type=fuel_type\n",
    "        \n",
    "    def info(self):\n",
    "        print(f\"{self.make} {self.year} {self.model} use {self.fuel_type} as fuel\")\n",
    "\n",
    "car=Car(\"Mahindra\",\"Thar\",\"2023\",\"Petrol\")\n",
    "car.info()"
   ]
  },
  {
   "cell_type": "markdown",
   "id": "873b7f64",
   "metadata": {},
   "source": [
    "7. Create a base class called \"Employee\" with attributes like \"name\" and \"salary.\"\n",
    "Derive two classes, \"Manager\" and \"Developer,\" from \"Employee.\" Add an additional\n",
    "attribute called \"department\" for the \"Manager\" class and \"programming_language\"\n",
    "for the \"Developer\" class."
   ]
  },
  {
   "cell_type": "code",
   "execution_count": 13,
   "id": "c4818558",
   "metadata": {},
   "outputs": [
    {
     "name": "stdout",
     "output_type": "stream",
     "text": [
      "Empolyee name: Chetan, Salary: USD 2000, Depertment: HR\n",
      "Employee Yogesh takes USD 5000 and uses Python to maintain data pipelines\n"
     ]
    }
   ],
   "source": [
    "class Employee:\n",
    "    \n",
    "    def __init__(self,name,salary):\n",
    "        self.name=name\n",
    "        self.salary=salary\n",
    "        \n",
    "class Manager(Employee):\n",
    "    \n",
    "    def __init__(self,name,salary,depertment):\n",
    "        super().__init__(name,salary)\n",
    "        self.depertment=depertment\n",
    "        \n",
    "    def info(self):\n",
    "        print(f\"Empolyee name: {self.name}, Salary: {self.salary}, Depertment: {self.depertment}\")\n",
    "        \n",
    "class Developer(Employee):\n",
    "    \n",
    "    def __init__(self,name,salary,programming_language):\n",
    "        super().__init__(name,salary)\n",
    "        self.prog_lang=programming_language\n",
    "    \n",
    "    def info(self):\n",
    "        print(f\"Employee {self.name} takes {self.salary} and uses {self.prog_lang} to maintain data pipelines\")\n",
    "        \n",
    "manager=Manager(\"Chetan\",\"USD 2000\",\"HR\")\n",
    "dev=Developer(\"Yogesh\",\"USD 5000\",\"Python\")\n",
    "manager.info()\n",
    "dev.info()"
   ]
  },
  {
   "cell_type": "markdown",
   "id": "71f39ae2",
   "metadata": {},
   "source": [
    "8. Design a base class called \"Shape\" with attributes like \"colour\" and \"border_width.\"\n",
    "Create derived classes, \"Rectangle\" and \"Circle,\" that inherit from \"Shape\" and add\n",
    "specific attributes like \"length\" and \"width\" for the \"Rectangle\" class and \"radius\" for\n",
    "the \"Circle\" class."
   ]
  },
  {
   "cell_type": "code",
   "execution_count": 23,
   "id": "56fe2e74",
   "metadata": {},
   "outputs": [
    {
     "name": "stdout",
     "output_type": "stream",
     "text": [
      "______ Shape:- Rectangle ______\n",
      "Color: Saffron\n",
      "Border width: 2.4 mm\n",
      "Length: 35 mm\n",
      "Width: 20 mm\n",
      "______ Shape:- Circle ______\n",
      "Color: Grey\n",
      "Border width: 1.5\n",
      "Radius: 15 mm\n"
     ]
    }
   ],
   "source": [
    "class Shape():\n",
    "    \n",
    "    def __init__(self,color,border_width):\n",
    "        self.color=color\n",
    "        self.border_width=border_width\n",
    "        \n",
    "class Rectangle(Shape):\n",
    "    \n",
    "    def __init__(self,color,border_width,length,width):\n",
    "        super().__init__(color,border_width)\n",
    "        self.length=length\n",
    "        self.width=width\n",
    "    \n",
    "class Circle(Shape):\n",
    "    \n",
    "    def __init__(self,color,border_width,radius):\n",
    "        super().__init__(color,border_width)\n",
    "        self.radius=radius\n",
    "        \n",
    "rect=Rectangle(\"Saffron\",2.4,35,20)\n",
    "cir=Circle(\"Grey\",1.5,15)\n",
    "print(\"______ Shape:- Rectangle ______\")\n",
    "print(\"Color:\",rect.color)\n",
    "print(\"Border width:\",rect.border_width,\"mm\")\n",
    "print(\"Length:\",rect.length,\"mm\")\n",
    "print(\"Width:\",rect.width,\"mm\")\n",
    "print(\"______ Shape:- Circle ______\")\n",
    "print(\"Color:\",cir.color)\n",
    "print(\"Border width:\",cir.border_width)\n",
    "print(\"Radius:\",cir.radius,\"mm\")"
   ]
  },
  {
   "cell_type": "markdown",
   "id": "e7e153cb",
   "metadata": {},
   "source": [
    "9. Create a base class called \"Device\" with attributes like \"brand\" and \"model.\" Derive\n",
    "two classes, \"Phone\" and \"Tablet,\" from \"Device.\" Add specific attributes like\n",
    "\"screen_size\" for the \"Phone\" class and \"battery_capacity\" for the \"Tablet\" class."
   ]
  },
  {
   "cell_type": "code",
   "execution_count": 33,
   "id": "bb6bf7f0",
   "metadata": {},
   "outputs": [
    {
     "name": "stdout",
     "output_type": "stream",
     "text": [
      "Brand: IPhone, Model: 15 pro, Screen size: 5.3\"\n",
      "Brand: Samsung, Model: Galaxy Tab S8, Battery: 10000 MAH\n"
     ]
    }
   ],
   "source": [
    "class Device:\n",
    "    \n",
    "    def __init__(self,brand,model):\n",
    "        self.brand=brand\n",
    "        self.model=model\n",
    "        \n",
    "class Phone(Device):\n",
    "    \n",
    "    def __init__(self,brand,model,screen_size):\n",
    "        super().__init__(brand,model)\n",
    "        self.screen_size=screen_size\n",
    "        \n",
    "class Tablet(Device):\n",
    "    \n",
    "    def __init__(self,brand,model,battery_capacity):\n",
    "        super().__init__(brand,model)\n",
    "        self.battery_capacity=battery_capacity\n",
    "        \n",
    "phone=Phone(\"IPhone\",\"15 pro\",'5.3\"')\n",
    "tab=Tablet(\"Samsung\",\"Galaxy Tab S8\",\"10000 MAH\")\n",
    "\n",
    "print(f\"Brand: {phone.brand}, Model: {phone.model}, Screen size: {phone.screen_size}\")\n",
    "print(f\"Brand: {tab.brand}, Model: {tab.model}, Battery: {tab.battery_capacity}\")"
   ]
  },
  {
   "cell_type": "markdown",
   "id": "ce631712",
   "metadata": {},
   "source": [
    "10. Create a base class called \"BankAccount\" with attributes like \"account_number\" and\n",
    "\"balance.\" Derive two classes, \"SavingsAccount\" and \"CheckingAccount,\" from\n",
    "\"BankAccount.\" Add specific methods like \"calculate_interest\" for the\n",
    "\"SavingsAccount\" class and \"deduct_fees\" for the \"CheckingAccount\" class."
   ]
  },
  {
   "cell_type": "code",
   "execution_count": 94,
   "id": "4009502c",
   "metadata": {},
   "outputs": [
    {
     "name": "stdout",
     "output_type": "stream",
     "text": [
      "Dear 'xxxx8130' Your monthly inerest '82.19' credited\n",
      "now current balance is '25082.19INR' \n",
      "\n",
      "Dear 'xxxx0151', inr '75' deducted from your account\n",
      "for not maintaing minmum ammount, now current balance is '925'inr  \n"
     ]
    }
   ],
   "source": [
    "# I solved This question in two ways one is bit complex(A real world scnerio) and another one is simple\n",
    "class BankAccount:\n",
    "    \n",
    "    def __init__(self,account_number,balance):\n",
    "        self.account_number=account_number\n",
    "        self.balance=balance\n",
    "        \n",
    "class SavingsAccount(BankAccount):\n",
    "    \n",
    "    def __init__(self,account_number,balance,interset=4): # interset is set to 4 percent\n",
    "        super().__init__(account_number,balance)\n",
    "        self.interset=interset\n",
    "      \n",
    "    def calculate_interest(self):\n",
    "        acc=str(self.account_number)\n",
    "        apy=self.balance*(self.interset/100)*(30/365)   # 4% interset for a time period of 30 days\n",
    "        f_apy=float(\"%.2f\" % apy)\n",
    "        self.balance+=f_apy\n",
    "        print(f\"Dear 'xxxx{acc[-4:]}' Your monthly inerest '{f_apy}' credited\")\n",
    "        print(f\"now current balance is '{self.balance}INR' \")\n",
    "        \n",
    "class CheckingAccount(BankAccount):\n",
    "    \n",
    "    def __init__(self,account_number,balance,penalty=75): # penalty is set to 75inr per month\n",
    "        super().__init__(account_number,balance)\n",
    "        self.penalty=penalty     \n",
    "    \n",
    "    def deduct_fee(self):\n",
    "        acc=str(self.account_number)\n",
    "        self.balance-= self.penalty\n",
    "        print(f\"Dear 'xxxx{acc[-4:]}', inr '{self.penalty}' deducted from your account\")\n",
    "        print(f\"for not maintaing minmum ammount, now current balance is '{self.balance}'inr  \")\n",
    "        \n",
    "sav_acc=SavingsAccount(34004048130,25000)\n",
    "sav_acc.calculate_interest()\n",
    "print(\"\")\n",
    "ch_acc=CheckingAccount(51628300151,1000)\n",
    "ch_acc.deduct_fee()"
   ]
  },
  {
   "cell_type": "code",
   "execution_count": 92,
   "id": "b6f7e511",
   "metadata": {},
   "outputs": [
    {
     "name": "stdout",
     "output_type": "stream",
     "text": [
      "Interest of 1000.0 credited in your account now balance is 26000.0\n",
      "A ammount of 75inr deducted from your account now balance is 925\n"
     ]
    }
   ],
   "source": [
    "class BankAccount:\n",
    "    \n",
    "    def __init__(self, account_number, balance):\n",
    "        self.account_number = account_number\n",
    "        self.balance = balance\n",
    "\n",
    "class SavingsAccounts(BankAccount):\n",
    "    \n",
    "    def __init__(self, account_number, balance, interest_rate):\n",
    "        super().__init__(account_number, balance)\n",
    "        self.interest_rate = interest_rate\n",
    "\n",
    "    def calculate_interest(self):\n",
    "        interest = self.balance * self.interest_rate / 100\n",
    "        self.balance += interest\n",
    "        print(f\"Interest of {interest} credited in your account now balance is {self.balance}\")\n",
    "\n",
    "class CheckingAccounts(BankAccount):\n",
    "    \n",
    "    def __init__(self, account_number, balance, monthly_fee):\n",
    "        super().__init__(account_number, balance)\n",
    "        self.monthly_fee = monthly_fee\n",
    "\n",
    "    def deduct_fees(self):\n",
    "        self.balance -= self.monthly_fee\n",
    "        print(f\"A ammount of {self.monthly_fee}inr deducted from your account now balance is {self.balance}\")\n",
    "\n",
    "\n",
    "sav_acc = SavingsAccount(34004048130,25000, 4)\n",
    "ch_acc = CheckingAccounts(51628300151,1000, 75)\n",
    "\n",
    "sav_acc.calculate_interest()\n",
    "ch_acc.deduct_fees()\n",
    "\n",
    "\n"
   ]
  }
 ],
 "metadata": {
  "kernelspec": {
   "display_name": "Python 3 (ipykernel)",
   "language": "python",
   "name": "python3"
  },
  "language_info": {
   "codemirror_mode": {
    "name": "ipython",
    "version": 3
   },
   "file_extension": ".py",
   "mimetype": "text/x-python",
   "name": "python",
   "nbconvert_exporter": "python",
   "pygments_lexer": "ipython3",
   "version": "3.11.3"
  }
 },
 "nbformat": 4,
 "nbformat_minor": 5
}
